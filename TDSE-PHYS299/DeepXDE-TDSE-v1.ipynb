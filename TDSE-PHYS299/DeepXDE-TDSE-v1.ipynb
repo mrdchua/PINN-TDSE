{
 "cells": [
  {
   "cell_type": "code",
   "execution_count": 3,
   "id": "4a34c8bb",
   "metadata": {},
   "outputs": [],
   "source": [
    "import numpy as np\n",
    "import deepxde as dde\n",
    "from deepxde.backend import tensorflow_compat_v1\n",
    "import matplotlib.pyplot as plt\n",
    "from scipy.interpolate import griddata"
   ]
  },
  {
   "cell_type": "code",
   "execution_count": 4,
   "id": "93301f69",
   "metadata": {},
   "outputs": [],
   "source": [
    "x_min, x_max = -np.pi, np.pi\n",
    "t_min, t_max = 0.0, 2*np.pi\n",
    "\n",
    "x = np.linspace(x_min, x_max, 256)\n",
    "t = np.linspace(t_min, t_max, 201)\n",
    "X, T = np.meshgrid(x, t)\n",
    "\n",
    "X_star = np.hstack((X.flatten()[:, None], T.flatten()[:, None]))\n",
    "\n",
    "space_domain = dde.geometry.Interval(x_min, x_max)\n",
    "time_domain = dde.geometry.TimeDomain(t_min, t_max)\n",
    "geomtime = dde.geometry.GeometryXTime(space_domain, time_domain)"
   ]
  },
  {
   "cell_type": "code",
   "execution_count": null,
   "id": "7ac546d5",
   "metadata": {},
   "outputs": [],
   "source": [
    "def pde(x, y):\n",
    "    \"\"\"\n",
    "    INPUTS:\n",
    "        x: x[:,0] is x-coordinate\n",
    "           x[:,1] is t-coordinate\n",
    "        y: Network output, in this case:\n",
    "            y[:,0] is u(x,t) the real part\n",
    "            y[:,1] is v(x,t) the imaginary part\n",
    "    OUTPUT:\n",
    "        The pde in standard form i.e. something that must be zero\n",
    "    \"\"\"\n",
    "    u = y[:, 0:1]\n",
    "    v = y[:, 1:2]\n",
    "\n",
    "    # In 'jacobian', i is the output component and j is the input component\n",
    "    u_t = dde.grad.jacobian(y, x, i=0, j=1)\n",
    "    v_t = dde.grad.jacobian(y, x, i=1, j=1)\n",
    "    u_x = dde.grad.jacobian(y, x, i=0, j=0)\n",
    "    v_x = dde.grad.jacobian(y, x, i=1, j=0)\n",
    "\n",
    "    # In 'hessian', i and j are both input components. (The Hessian could be in principle something like d^2y/dxdt, d^2y/d^2x etc)\n",
    "    # The output component is selected by \"component\"\n",
    "    u_xx = dde.grad.hessian(y, x, component=0, i=0, j=0)\n",
    "    v_xx = dde.grad.hessian(y, x, component=1, i=0, j=0)\n",
    "\n",
    "    f_u = v_t - 0.5 * (u_xx - x[:, 0:1]**2*u)\n",
    "    f_v = u_t + 0.5 * (v_xx - x[:, 0:1]**2*v)\n",
    "\n",
    "    return [f_u, f_v]"
   ]
  },
  {
   "cell_type": "code",
   "execution_count": null,
   "id": "58e60481",
   "metadata": {},
   "outputs": [],
   "source": [
    "def psi_init_u(x):\n",
    "    u_0 = (1.0/np.pi)**0.25 * np.exp(-0.5*x[:, 0:1]**2)\n",
    "    u_1 = (1.0/np.pi)**0.25 * np.exp(-0.5*x[:, 0:1]**2) * x[:, 0:1] * np.sqrt(1)\n",
    "    return (1.0/np.sqrt(2.0)) * (u_0 + u_1)\n",
    "\n",
    "def psi_init_v(x):\n",
    "    return 0\n",
    "\n",
    "def boundary(x, on_boundary):\n",
    "    return on_boundary\n",
    "\n",
    "bc_u_0 = dde.icbc.boundary_conditions.DirichletBC(geomtime, lambda x: 0, boundary, component=0)\n",
    "bc_v_0 = dde.icbc.boundary_conditions.DirichletBC(geomtime, lambda x: 0, boundary, component=1)\n"
   ]
  }
 ],
 "metadata": {
  "kernelspec": {
   "display_name": "Python 3",
   "language": "python",
   "name": "python3"
  },
  "language_info": {
   "codemirror_mode": {
    "name": "ipython",
    "version": 3
   },
   "file_extension": ".py",
   "mimetype": "text/x-python",
   "name": "python",
   "nbconvert_exporter": "python",
   "pygments_lexer": "ipython3",
   "version": "3.11.5"
  }
 },
 "nbformat": 4,
 "nbformat_minor": 5
}
